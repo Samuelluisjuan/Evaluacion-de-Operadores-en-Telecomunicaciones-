{
 "cells": [
  {
   "cell_type": "markdown",
   "metadata": {},
   "source": [
    "# Paso 1. Lleva a cabo el análisis exploratorio de datos\n",
    "#### - Abrir el archivo de datos y leer la información general\n",
    "#### - Preparar los datos para el análisis\n",
    "        - *Cambia el nombre de las columnas de manera que sea conveniente para ti*\n",
    "        - *Comprueba si hay tipos de datos y valores ausentes. Corrige los datos si es necesario*"
   ]
  },
  {
   "cell_type": "markdown",
   "metadata": {},
   "source": [
    "# Paso 2. Identificar operadores ineficaces\n",
    "#### - Estudiar y comprobar los datos\n",
    "    - Identificar operadores con un alto porcentaje de llamadas perdidas:\n",
    "\n",
    "        - Filtrar las llamadas entrantes y contar el número de llamadas perdidas por operador.\n",
    "\n",
    "        - Calcular el porcentaje de llamadas perdidas sobre el total de llamadas entrantes.\n",
    "\n",
    "    - Analizar el tiempo de espera promedio para las llamadas entrantes por operador:\n",
    "\n",
    "        - Calcular el tiempo promedio de espera para cada operador.\n",
    "\n",
    "        - Identificar aquellos que superen un umbral definido (por ejemplo, el percentil 75 del tiempo promedio).\n",
    "\n",
    "    - Para operadores encargados de llamadas salientes, determinar si realizan una cantidad adecuada:\n",
    "\n",
    "        - Contar el número total de llamadas salientes por operador.\n",
    "\n",
    "        - Comparar el desempeño con un umbral mínimo establecido por la empresa.\n",
    "\n",
    "#### - Generar métricas clave para clasificar ineficiencia\n",
    "\n",
    "    - Crear una tabla resumen con las siguientes métricas para cada operador:\n",
    "\n",
    "      - Tiempo promedio de espera.\n",
    "\n",
    "      - Número de llamadas salientes realizadas.\n",
    "\n",
    "      - Asignar una etiqueta de “ineficaz” si el operador incumple uno o más criterios."
   ]
  },
  {
   "cell_type": "markdown",
   "metadata": {},
   "source": [
    "# Paso 3. Prueba de Hipótesis Estadísticas\n",
    "\n",
    "    - Definir hipótesis estadísticas\n",
    "\n",
    "    - Realizar pruebas estadísticas\n",
    "\n",
    "        - Comparar el tiempo promedio de espera entre operadores ineficaces y eficaces usando pruebas t o U de Mann-Whitney, según corresponda.\n",
    "\n",
    "        - Comparar el porcentaje de llamadas perdidas entre ambos grupos con una prueba de proporciones.\n",
    "\n",
    "        - Comparar la cantidad de llamadas salientes entre operadores ineficaces y eficaces con una prueba estadística adecuada.\n",
    "\n",
    "    - Analizar los resultados\n",
    "\n",
    "       -Verificar si las diferencias encontradas son estadísticamente significativas (nivel de significancia α = 0.05).\n",
    "\n",
    "       -Documentar las conclusiones obtenidas de las pruebas."
   ]
  },
  {
   "cell_type": "markdown",
   "metadata": {},
   "source": [
    "# Paso 4. Visualización y Comunicación de Resultados\n",
    "\n",
    "\n",
    "    - Crear visualizaciones\n",
    "\n",
    "        - Histogramas y boxplots para analizar la distribución de métricas como el tiempo de espera y el porcentaje de llamadas perdidas.\n",
    "\n",
    "        - Tablas resumen y gráficos de barras para comparar operadores eficaces e ineficaces.\n",
    "\n",
    "    - Preparar un informe ejecutivo\n",
    "\n",
    "        - Resumir los hallazgos principales de manera clara y concisa.\n",
    "\n",
    "\n",
    "    - Presentar los resultados a las partes interesadas\n",
    "\n",
    "        - Utilizar herramientas de visualización (Tableau) o dashboards interactivos.\n",
    "\n",
    "        - Incluir conclusiones clave y pasos siguientes sugeridos.\n",
    "\n"
   ]
  },
  {
   "cell_type": "code",
   "execution_count": null,
   "metadata": {},
   "outputs": [],
   "source": []
  }
 ],
 "metadata": {
  "kernelspec": {
   "display_name": "Python 3 (ipykernel)",
   "language": "python",
   "name": "python3"
  },
  "language_info": {
   "codemirror_mode": {
    "name": "ipython",
    "version": 3
   },
   "file_extension": ".py",
   "mimetype": "text/x-python",
   "name": "python",
   "nbconvert_exporter": "python",
   "pygments_lexer": "ipython3",
   "version": "3.9.19"
  },
  "toc": {
   "base_numbering": 1,
   "nav_menu": {},
   "number_sections": true,
   "sideBar": true,
   "skip_h1_title": true,
   "title_cell": "Table of Contents",
   "title_sidebar": "Contents",
   "toc_cell": false,
   "toc_position": {},
   "toc_section_display": true,
   "toc_window_display": false
  }
 },
 "nbformat": 4,
 "nbformat_minor": 2
}
